{
 "cells": [
  {
   "cell_type": "markdown",
   "metadata": {},
   "source": [
    "# Урок 1. Алгоритм линейной регрессии. Градиентный спуск."
   ]
  },
  {
   "cell_type": "code",
   "execution_count": 1,
   "metadata": {},
   "outputs": [],
   "source": [
    "import numpy as np\n",
    "import matplotlib.pyplot as plt"
   ]
  },
  {
   "cell_type": "code",
   "execution_count": 2,
   "metadata": {},
   "outputs": [],
   "source": [
    "def calc_mse(y, y_pred):\n",
    "  err = np.mean((y - y_pred)**2)\n",
    "  return err"
   ]
  },
  {
   "cell_type": "markdown",
   "metadata": {},
   "source": [
    "Задание 1. Подберите скорость обучения (alpha) и количество итераций:"
   ]
  },
  {
   "cell_type": "code",
   "execution_count": 3,
   "metadata": {},
   "outputs": [
    {
     "data": {
      "text/plain": [
       "array([[ 1,  1,  1,  1,  1,  1,  1,  1,  1,  1],\n",
       "       [ 1,  1,  2,  1,  3,  0,  5, 10,  1,  2]])"
      ]
     },
     "execution_count": 3,
     "metadata": {},
     "output_type": "execute_result"
    }
   ],
   "source": [
    "X = np.array([[1, 1, 1, 1, 1, 1, 1, 1, 1, 1],\n",
    "              [1, 1, 2, 1, 3, 0, 5, 10, 1, 2]])\n",
    "X"
   ]
  },
  {
   "cell_type": "code",
   "execution_count": 4,
   "metadata": {},
   "outputs": [
    {
     "data": {
      "text/plain": [
       "array([ 1,  1,  2,  1,  3,  0,  5, 10,  1,  2])"
      ]
     },
     "execution_count": 4,
     "metadata": {},
     "output_type": "execute_result"
    }
   ],
   "source": [
    "X[1]"
   ]
  },
  {
   "cell_type": "code",
   "execution_count": 5,
   "metadata": {},
   "outputs": [
    {
     "data": {
      "text/plain": [
       "[45, 55, 50, 59, 65, 35, 75, 80, 50, 60]"
      ]
     },
     "execution_count": 5,
     "metadata": {},
     "output_type": "execute_result"
    }
   ],
   "source": [
    "y = [45, 55, 50, 59, 65, 35, 75, 80, 50, 60]\n",
    "y"
   ]
  },
  {
   "cell_type": "code",
   "execution_count": 6,
   "metadata": {},
   "outputs": [
    {
     "data": {
      "text/plain": [
       "(array([1. , 0.5]), 0.0001)"
      ]
     },
     "execution_count": 6,
     "metadata": {},
     "output_type": "execute_result"
    }
   ],
   "source": [
    "n = X.shape[1]\n",
    "alpha = 1e-4\n",
    "W = np.array([1, 0.5])\n",
    "W, alpha"
   ]
  },
  {
   "cell_type": "markdown",
   "metadata": {},
   "source": [
    "Итоговый алгоритм"
   ]
  },
  {
   "cell_type": "code",
   "execution_count": 7,
   "metadata": {},
   "outputs": [
    {
     "name": "stdout",
     "output_type": "stream",
     "text": [
      "0 [1.01102 0.534  ] 3173.15\n",
      "5 [ 260253.62879761 1409130.81937911] 1222862968184.4907\n",
      "10 [-4.55164359e+07 -2.46491183e+08] 2.3311953100747315e+17\n",
      "15 [1.84769135e+08 1.00060349e+09] 1.5284876611425128e+19\n",
      "20 [-2.55184278e+07 -1.38193432e+08] 1.1539713031417603e+18\n",
      "25 [ 68144.9486957  368781.77775519] 49778262562456.1\n",
      "30 [47.2609984   3.78765234] 7132.7908860570915\n",
      "------------------------------------------------\n",
      "33 [47.27731019  3.90235801] 45.9386699490435\n"
     ]
    }
   ],
   "source": [
    "\n",
    "c=1\n",
    "iter_count=34\n",
    "\n",
    "for i in range(iter_count):\n",
    "  y_pred = np.dot(W, X)\n",
    "  err = calc_mse(y, y_pred)\n",
    "  for ii in range(W.shape[0]):\n",
    "    W[ii] -= alpha * (1/n * 2 * np.sum(X[ii] * (y_pred - y)))\n",
    "  alpha=c/(i+1)\n",
    "  if i % 5 == 0:\n",
    "        print(i, W, err)\n",
    "    \n",
    "print('------------------------------------------------')    \n",
    "print(i, W, err)"
   ]
  },
  {
   "cell_type": "code",
   "execution_count": 8,
   "metadata": {},
   "outputs": [
    {
     "data": {
      "image/png": "[encoded data removed]",
      "text/plain": [
       "<Figure size 936x432 with 1 Axes>"
      ]
     },
     "metadata": {
      "needs_background": "light"
     },
     "output_type": "display_data"
    }
   ],
   "source": [
    "plt.figure(figsize=(13, 6))\n",
    "plt.title('Gradient descent')\n",
    "plt.xlabel(r'$x$')\n",
    "plt.ylabel(r'$y$')\n",
    "\n",
    "\n",
    "plt.scatter(X[1], y, c='r')\n",
    "plt.plot(X[1], W @ X)\n",
    "\n",
    "plt.show()"
   ]
  },
  {
   "cell_type": "markdown",
   "metadata": {},
   "source": [
    "Ответ:\n",
    "1. Скорость обучения (alpha) считается по формуле:\n",
    "$$\\alpha_{k} = \\frac{c}{k},$$\n",
    "где $c$ - некоторая константа, а $k$ - номер шага (у нас iter_num).\n",
    "\n",
    "  Оптимальное c=1, т.о. на каждом шаге \n",
    "$$\\alpha_{k} = \\frac{1}{k},$$\n",
    "\n",
    "2. Оптимальное число итераций iter_count = 33 - тогда ошибка err практически не меняется и минимальна и равна 45.938."
   ]
  },
  {
   "cell_type": "markdown",
   "metadata": {},
   "source": [
    "Задание *2. В этом коде мы избавляемся от итераций по весам, но тут есть ошибка, исправьте ее:"
   ]
  },
  {
   "cell_type": "code",
   "execution_count": 9,
   "metadata": {},
   "outputs": [
    {
     "data": {
      "text/plain": [
       "(array([1. , 0.5]), 0.0001)"
      ]
     },
     "execution_count": 9,
     "metadata": {},
     "output_type": "execute_result"
    }
   ],
   "source": [
    "n = X.shape[1]\n",
    "alpha = 1e-4\n",
    "W = np.array([1, 0.5])\n",
    "W, alpha"
   ]
  },
  {
   "cell_type": "code",
   "execution_count": 10,
   "metadata": {},
   "outputs": [
    {
     "name": "stdout",
     "output_type": "stream",
     "text": [
      "0 [1.01102 0.534  ] 3173.15\n",
      "5 [ 260253.62879761 1409130.81937911] 1222862968184.4907\n",
      "10 [-4.55164359e+07 -2.46491183e+08] 2.3311953100747315e+17\n",
      "15 [1.84769135e+08 1.00060349e+09] 1.5284876611425128e+19\n",
      "20 [-2.55184278e+07 -1.38193432e+08] 1.1539713031417603e+18\n",
      "25 [ 68144.9486957  368781.77775519] 49778262562456.1\n",
      "30 [47.2609984   3.78765234] 7132.7908860570915\n",
      "------------------------------------------------\n",
      "33 [47.27731019  3.90235801] 45.9386699490435\n"
     ]
    }
   ],
   "source": [
    "iter_count=34\n",
    "c=1\n",
    "\n",
    "for i in range(iter_count):\n",
    "  y_pred = np.dot(W, X)\n",
    "  err = calc_mse(y, y_pred)\n",
    "  #for ii in range(W.shape[0]):\n",
    "   # W[ii] -= alpha * (1/n * 2 * np.sum(X[ii] * (y_pred - y)))     \n",
    "  W-=(alpha * (1/n * 2 * np.sum(X * (y_pred - y),axis=1)))\n",
    "  alpha=c/(i+1)\n",
    "  if i % 5 == 0:    \n",
    "    print(i, W, err)\n",
    "    \n",
    "print('------------------------------------------------')        \n",
    "print(i, W, err)"
   ]
  },
  {
   "cell_type": "markdown",
   "metadata": {},
   "source": [
    "Ответ:\n",
    "\n",
    "надо заменить np.sum(X * (y_pred - y)) на np.sum(X * (y_pred - y),axis=1)\n",
    "чтобы суммировать по строкам"
   ]
  },
  {
   "cell_type": "markdown",
   "metadata": {},
   "source": [
    "Задание *3: вместо того, чтобы задавать количество итераций, задайте условие остановки алгоритма - когда ошибка за итерацию \n",
    "начинает изменяться ниже определенного порога (упрощенный аналог параметра tol в линейной регрессии в sklearn)"
   ]
  },
  {
   "cell_type": "code",
   "execution_count": 11,
   "metadata": {},
   "outputs": [
    {
     "data": {
      "text/plain": [
       "(array([1. , 0.5]), 0.0001)"
      ]
     },
     "execution_count": 11,
     "metadata": {},
     "output_type": "execute_result"
    }
   ],
   "source": [
    "n = X.shape[1]\n",
    "alpha = 1e-4\n",
    "W = np.array([1, 0.5])\n",
    "W, alpha"
   ]
  },
  {
   "cell_type": "code",
   "execution_count": 12,
   "metadata": {},
   "outputs": [
    {
     "name": "stdout",
     "output_type": "stream",
     "text": [
      "584\n",
      "[47.23442229  3.91029337]\n",
      "45.93750279335819\n"
     ]
    }
   ],
   "source": [
    "c=1\n",
    "\n",
    "# критерий сходимости (  разница между ошибками, при которой алгоритм останавливается)\n",
    "min_err_dist = 1e-8\n",
    "\n",
    "# зададим начальную разницу между ошибками большим числом\n",
    "err_current_dist = np.inf\n",
    "\n",
    "# счетчик итераций\n",
    "iter_num = 0\n",
    "\n",
    "while err_current_dist > min_err_dist:        \n",
    "    y_pred = np.dot(W, X)\n",
    "    err_pred = calc_mse(y, y_pred)   \n",
    "    W-=(alpha * (1/n * 2 * np.sum(X * (y_pred - y),axis=1)))   \n",
    "    y_pred = np.dot(W, X)\n",
    "    err_current = calc_mse(y, y_pred)   \n",
    "    err_current_dist = np.linalg.norm(err_current - err_pred)\n",
    "    \n",
    "    iter_num += 1\n",
    "    alpha=c/(iter_num)\n",
    "  \n",
    "\n",
    "print(iter_num)\n",
    "print(W)\n",
    "print(err_current) "
   ]
  },
  {
   "cell_type": "code",
   "execution_count": null,
   "metadata": {},
   "outputs": [],
   "source": []
  }
 ],
 "metadata": {
  "kernelspec": {
   "display_name": "Python 3",
   "language": "python",
   "name": "python3"
  },
  "language_info": {
   "codemirror_mode": {
    "name": "ipython",
    "version": 3
   },
   "file_extension": ".py",
   "mimetype": "text/x-python",
   "name": "python",
   "nbconvert_exporter": "python",
   "pygments_lexer": "ipython3",
   "version": "3.7.4"
  }
 },
 "nbformat": 4,
 "nbformat_minor": 2
}
